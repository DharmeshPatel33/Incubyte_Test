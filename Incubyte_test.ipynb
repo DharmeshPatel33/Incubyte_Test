{
 "cells": [
  {
   "cell_type": "code",
   "execution_count": 18,
   "metadata": {},
   "outputs": [],
   "source": [
    "import pandas as pd\n",
    "import datetime"
   ]
  },
  {
   "cell_type": "markdown",
   "metadata": {},
   "source": [
    "### MSSQL Server Connection  "
   ]
  },
  {
   "cell_type": "code",
   "execution_count": 1,
   "metadata": {},
   "outputs": [],
   "source": [
    "import pyodbc\n",
    "def sql_connection(): \n",
    "    conn = pyodbc.connect('Driver={ODBC Driver 17 for SQL Server};'\n",
    "                      'Server=DESKTOP-JJV90PD;'\n",
    "                      'Database=Incubyte_DB;'\n",
    "                      'Trusted_Connection=yes;')\n",
    "\n",
    "    cursor = conn.cursor()\n",
    "    cursor.fast_executemany = True\n",
    "    return cursor"
   ]
  },
  {
   "cell_type": "markdown",
   "metadata": {},
   "source": [
    "### Extract "
   ]
  },
  {
   "cell_type": "code",
   "execution_count": 35,
   "metadata": {},
   "outputs": [],
   "source": [
    "def Read_File(FileName):\n",
    "    # drop first two col\n",
    "    df=pd.read_csv(FileName,sep='|').drop(['Unnamed: 0','H'],axis=1)\n",
    "    df.head()\n",
    "    return df"
   ]
  },
  {
   "cell_type": "markdown",
   "metadata": {},
   "source": [
    "### Transform"
   ]
  },
  {
   "cell_type": "code",
   "execution_count": 38,
   "metadata": {},
   "outputs": [],
   "source": [
    "def Transform(df):\n",
    "    df['Open_Date']=df['Open_Date'].map(lambda x: datetime.datetime.strptime(str(x),'%Y%m%d').date())\n",
    "    df['Last_Consulted_Date']=df['Last_Consulted_Date'].map(lambda x: datetime.datetime.strptime(str(x),'%Y%m%d').date())\n",
    "    df['DOB']=df['DOB'].map(lambda x: datetime.datetime.strptime(str(x),'%d%m%Y').date())\n",
    "    return df"
   ]
  },
  {
   "cell_type": "markdown",
   "metadata": {},
   "source": [
    "### Create Table Query - MSSQL"
   ]
  },
  {
   "cell_type": "raw",
   "metadata": {},
   "source": [
    "CREATE TABLE [dbo].[Incubyte_table](\n",
    "\t[Name] [varchar](255) NOT NULL,\n",
    "\t[Cust_I] [varchar](18) NULL,\n",
    "\t[Open_Dt] [date] NULL,\n",
    "\t[Consul_Dt] [date] NULL,\n",
    "\t[VAC_ID] [char](5) NULL,\n",
    "\t[DR_Name] [char](255) NULL,\n",
    "\t[State] [char](5) NULL,\n",
    "\t[County] [char](5) NULL,\n",
    "\t[DOB] [date] NULL,\n",
    "\t[FLAG] [char](1) NULL\n",
    ")"
   ]
  },
  {
   "cell_type": "markdown",
   "metadata": {},
   "source": [
    "### Load "
   ]
  },
  {
   "cell_type": "code",
   "execution_count": 41,
   "metadata": {},
   "outputs": [],
   "source": [
    "def Load(df):\n",
    "    cursor=sql_connection()\n",
    "    insert_query='INSERT INTO Incubyte_DB.dbo.Incubyte_table VALUES (?,?,?,?,?,?,?,?,?,?)'\n",
    "    cursor.executemany(insert_query,df.values.tolist())\n",
    "    cursor.commit()\n",
    "    cursor.close()"
   ]
  },
  {
   "cell_type": "markdown",
   "metadata": {},
   "source": [
    "## Main Run "
   ]
  },
  {
   "cell_type": "code",
   "execution_count": 42,
   "metadata": {},
   "outputs": [],
   "source": [
    "# Extract file\n",
    "df=Read_File('Incubyte_data.txt')\n",
    "\n",
    "#transform to defined format\n",
    "df=Transform(df)\n",
    "\n",
    "#load to MSSQL table\n",
    "Load(df)"
   ]
  },
  {
   "cell_type": "code",
   "execution_count": 34,
   "metadata": {},
   "outputs": [
    {
     "name": "stdout",
     "output_type": "stream",
     "text": [
      "('Alex', '123457', datetime.date(2010, 10, 12), datetime.date(2012, 10, 13), 'MVD  ', 'Paul                                                                                                                                                                                                                                                           ', 'SA   ', 'USA  ', datetime.date(1987, 3, 6), 'A')\n",
      "('John', '123458', datetime.date(2010, 10, 12), datetime.date(2012, 10, 13), 'MVD  ', 'Paul                                                                                                                                                                                                                                                           ', 'TN   ', 'IND  ', datetime.date(1987, 3, 6), 'A')\n",
      "('Mathew', '123459', datetime.date(2010, 10, 12), datetime.date(2012, 10, 13), 'MVD  ', 'Paul                                                                                                                                                                                                                                                           ', 'WAS  ', 'PHIL ', datetime.date(1987, 3, 6), 'A')\n",
      "('Matt', '12345', datetime.date(2010, 10, 12), datetime.date(2012, 10, 13), 'MVD  ', 'Paul                                                                                                                                                                                                                                                           ', 'BOS  ', 'NYC  ', datetime.date(1987, 3, 6), 'A')\n",
      "('Jacob', '1256', datetime.date(2010, 10, 12), datetime.date(2012, 10, 13), 'MVD  ', 'Paul                                                                                                                                                                                                                                                           ', 'VIC  ', 'AU   ', datetime.date(1987, 3, 6), 'A')\n"
     ]
    }
   ],
   "source": [
    "cursor=sql_connection()\n",
    "cursor.execute('SELECT * FROM Incubyte_DB.dbo.Incubyte_table')\n",
    "for row in cursor:\n",
    "    print(row)"
   ]
  }
 ],
 "metadata": {
  "kernelspec": {
   "display_name": "Python 3",
   "language": "python",
   "name": "python3"
  },
  "language_info": {
   "codemirror_mode": {
    "name": "ipython",
    "version": 3
   },
   "file_extension": ".py",
   "mimetype": "text/x-python",
   "name": "python",
   "nbconvert_exporter": "python",
   "pygments_lexer": "ipython3",
   "version": "3.8.5"
  }
 },
 "nbformat": 4,
 "nbformat_minor": 4
}
